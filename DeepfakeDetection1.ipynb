{
 "cells": [
  {
   "cell_type": "markdown",
   "id": "33d657e8-2d52-4ace-8001-6c4f2a0620cc",
   "metadata": {},
   "source": [
    "# Data Preprocessing"
   ]
  },
  {
   "cell_type": "code",
   "execution_count": 1,
   "id": "57ee3070-fce3-4648-a95e-5d03b9a923cf",
   "metadata": {},
   "outputs": [],
   "source": [
    "import os\n",
    "import sys\n",
    "path_to_cv_module = r'c:\\users\\srish\\appdata\\local\\programs\\python\\python39\\lib\\site-packages'\n",
    "sys.path.append(path_to_cv_module)"
   ]
  },
  {
   "cell_type": "code",
   "execution_count": 2,
   "id": "68585572-5388-4f3a-9715-6ba82961d5a6",
   "metadata": {},
   "outputs": [],
   "source": [
    "import cv2\n",
    "from tqdm import tqdm"
   ]
  },
  {
   "cell_type": "code",
   "execution_count": 3,
   "id": "122b1fe7-678b-45ba-81e3-bc853f9b45c9",
   "metadata": {},
   "outputs": [],
   "source": [
    "EXTRACT = False\n",
    "\n",
    "files = r'deepfake-detection-challenge\\train_sample_videos'\n",
    "frames = r'frames'\n",
    "def get_frames(files, frame_path, ext):\n",
    "    count = 0\n",
    "    for f in tqdm(os.listdir(files)):\n",
    "        if 'mp4' in f:\n",
    "            try:\n",
    "                path = os.path.join(files, f)\n",
    "                cap = cv2.VideoCapture(path)\n",
    "                n_frames = int(cap.get(cv2.CAP_PROP_FRAME_COUNT))\n",
    "                fps = int(cap.get(cv2.CAP_PROP_FPS))\n",
    "                \n",
    "                count += 1\n",
    "                # print(n_frames, fps)    # 300, 29 for all videos; all videos are ~10s long\n",
    "                \n",
    "                framess = os.path.join(frame_path, f.split('.')[0])\n",
    "                n = 0\n",
    "                while True:\n",
    "                    ret, frame = cap.read()\n",
    "                    cv2.imwrite('{}_{}.{}'.format(framess, str(n).zfill(len(str(n_frames))), ext), frame)\n",
    "                    n += 1\n",
    "            except Exception as e:\n",
    "                pass\n",
    "\n",
    "        print(path)\n",
    "        print(count)\n",
    "if EXTRACT:\n",
    "    get_frames(files, frames, 'jpg')"
   ]
  },
  {
   "cell_type": "code",
   "execution_count": 5,
   "id": "1ef8d836-8d53-4f7b-b143-19eb1e422f54",
   "metadata": {},
   "outputs": [],
   "source": [
    "import numpy as np\n",
    "import pandas as pd\n",
    "import matplotlib.pyplot as plt\n",
    "%matplotlib inline"
   ]
  },
  {
   "cell_type": "code",
   "execution_count": 8,
   "id": "4709343e-fc30-4871-8e60-420764b0e197",
   "metadata": {},
   "outputs": [
    {
     "data": {
      "text/html": [
       "<div>\n",
       "<style scoped>\n",
       "    .dataframe tbody tr th:only-of-type {\n",
       "        vertical-align: middle;\n",
       "    }\n",
       "\n",
       "    .dataframe tbody tr th {\n",
       "        vertical-align: top;\n",
       "    }\n",
       "\n",
       "    .dataframe thead th {\n",
       "        text-align: right;\n",
       "    }\n",
       "</style>\n",
       "<table border=\"1\" class=\"dataframe\">\n",
       "  <thead>\n",
       "    <tr style=\"text-align: right;\">\n",
       "      <th></th>\n",
       "      <th>aagfhgtpmv.mp4</th>\n",
       "      <th>aapnvogymq.mp4</th>\n",
       "      <th>abarnvbtwb.mp4</th>\n",
       "      <th>abofeumbvv.mp4</th>\n",
       "      <th>abqwwspghj.mp4</th>\n",
       "      <th>acifjvzvpm.mp4</th>\n",
       "      <th>acqfdwsrhi.mp4</th>\n",
       "      <th>acxnxvbsxk.mp4</th>\n",
       "      <th>acxwigylke.mp4</th>\n",
       "      <th>aczrgyricp.mp4</th>\n",
       "      <th>...</th>\n",
       "      <th>esnntzzajv.mp4</th>\n",
       "      <th>esxrvsgpvb.mp4</th>\n",
       "      <th>esyhwdfnxs.mp4</th>\n",
       "      <th>esyrimvzsa.mp4</th>\n",
       "      <th>etdcqxabww.mp4</th>\n",
       "      <th>etejaapnxh.mp4</th>\n",
       "      <th>etmcruaihe.mp4</th>\n",
       "      <th>etohcvnzbj.mp4</th>\n",
       "      <th>eudeqjhdfd.mp4</th>\n",
       "      <th>eukvucdetx.mp4</th>\n",
       "    </tr>\n",
       "  </thead>\n",
       "  <tbody>\n",
       "    <tr>\n",
       "      <th>label</th>\n",
       "      <td>FAKE</td>\n",
       "      <td>FAKE</td>\n",
       "      <td>REAL</td>\n",
       "      <td>FAKE</td>\n",
       "      <td>FAKE</td>\n",
       "      <td>FAKE</td>\n",
       "      <td>FAKE</td>\n",
       "      <td>FAKE</td>\n",
       "      <td>FAKE</td>\n",
       "      <td>FAKE</td>\n",
       "      <td>...</td>\n",
       "      <td>FAKE</td>\n",
       "      <td>FAKE</td>\n",
       "      <td>FAKE</td>\n",
       "      <td>FAKE</td>\n",
       "      <td>FAKE</td>\n",
       "      <td>FAKE</td>\n",
       "      <td>FAKE</td>\n",
       "      <td>FAKE</td>\n",
       "      <td>REAL</td>\n",
       "      <td>FAKE</td>\n",
       "    </tr>\n",
       "    <tr>\n",
       "      <th>split</th>\n",
       "      <td>train</td>\n",
       "      <td>train</td>\n",
       "      <td>train</td>\n",
       "      <td>train</td>\n",
       "      <td>train</td>\n",
       "      <td>train</td>\n",
       "      <td>train</td>\n",
       "      <td>train</td>\n",
       "      <td>train</td>\n",
       "      <td>train</td>\n",
       "      <td>...</td>\n",
       "      <td>train</td>\n",
       "      <td>train</td>\n",
       "      <td>train</td>\n",
       "      <td>train</td>\n",
       "      <td>train</td>\n",
       "      <td>train</td>\n",
       "      <td>train</td>\n",
       "      <td>train</td>\n",
       "      <td>train</td>\n",
       "      <td>train</td>\n",
       "    </tr>\n",
       "    <tr>\n",
       "      <th>original</th>\n",
       "      <td>vudstovrck.mp4</td>\n",
       "      <td>jdubbvfswz.mp4</td>\n",
       "      <td>None</td>\n",
       "      <td>atvmxvwyns.mp4</td>\n",
       "      <td>qzimuostzz.mp4</td>\n",
       "      <td>kbvibjhfzo.mp4</td>\n",
       "      <td>ccfoszqabv.mp4</td>\n",
       "      <td>fjlyaizcwc.mp4</td>\n",
       "      <td>ffcwhpnpuw.mp4</td>\n",
       "      <td>slwkmefgde.mp4</td>\n",
       "      <td>...</td>\n",
       "      <td>ybetenmsye.mp4</td>\n",
       "      <td>gomwfvijiv.mp4</td>\n",
       "      <td>qeumxirsme.mp4</td>\n",
       "      <td>qzklcjjxdq.mp4</td>\n",
       "      <td>gipbyjfxfp.mp4</td>\n",
       "      <td>wtreibcmgm.mp4</td>\n",
       "      <td>afoovlsmtx.mp4</td>\n",
       "      <td>bdnaqemxmr.mp4</td>\n",
       "      <td>None</td>\n",
       "      <td>gjypopglvi.mp4</td>\n",
       "    </tr>\n",
       "  </tbody>\n",
       "</table>\n",
       "<p>3 rows × 400 columns</p>\n",
       "</div>"
      ],
      "text/plain": [
       "          aagfhgtpmv.mp4  aapnvogymq.mp4 abarnvbtwb.mp4  abofeumbvv.mp4  \\\n",
       "label               FAKE            FAKE           REAL            FAKE   \n",
       "split              train           train          train           train   \n",
       "original  vudstovrck.mp4  jdubbvfswz.mp4           None  atvmxvwyns.mp4   \n",
       "\n",
       "          abqwwspghj.mp4  acifjvzvpm.mp4  acqfdwsrhi.mp4  acxnxvbsxk.mp4  \\\n",
       "label               FAKE            FAKE            FAKE            FAKE   \n",
       "split              train           train           train           train   \n",
       "original  qzimuostzz.mp4  kbvibjhfzo.mp4  ccfoszqabv.mp4  fjlyaizcwc.mp4   \n",
       "\n",
       "          acxwigylke.mp4  aczrgyricp.mp4  ...  esnntzzajv.mp4  esxrvsgpvb.mp4  \\\n",
       "label               FAKE            FAKE  ...            FAKE            FAKE   \n",
       "split              train           train  ...           train           train   \n",
       "original  ffcwhpnpuw.mp4  slwkmefgde.mp4  ...  ybetenmsye.mp4  gomwfvijiv.mp4   \n",
       "\n",
       "          esyhwdfnxs.mp4  esyrimvzsa.mp4  etdcqxabww.mp4  etejaapnxh.mp4  \\\n",
       "label               FAKE            FAKE            FAKE            FAKE   \n",
       "split              train           train           train           train   \n",
       "original  qeumxirsme.mp4  qzklcjjxdq.mp4  gipbyjfxfp.mp4  wtreibcmgm.mp4   \n",
       "\n",
       "          etmcruaihe.mp4  etohcvnzbj.mp4 eudeqjhdfd.mp4  eukvucdetx.mp4  \n",
       "label               FAKE            FAKE           REAL            FAKE  \n",
       "split              train           train          train           train  \n",
       "original  afoovlsmtx.mp4  bdnaqemxmr.mp4           None  gjypopglvi.mp4  \n",
       "\n",
       "[3 rows x 400 columns]"
      ]
     },
     "execution_count": 8,
     "metadata": {},
     "output_type": "execute_result"
    }
   ],
   "source": [
    "train_data = pd.read_json('deepfake-detection-challenge/train_sample_videos/metadata.json')\n",
    "train_data.head()"
   ]
  },
  {
   "cell_type": "code",
   "execution_count": 9,
   "id": "bd1d86e4-0c5b-4531-9586-64294c1aa4d8",
   "metadata": {},
   "outputs": [
    {
     "data": {
      "text/html": [
       "<div>\n",
       "<style scoped>\n",
       "    .dataframe tbody tr th:only-of-type {\n",
       "        vertical-align: middle;\n",
       "    }\n",
       "\n",
       "    .dataframe tbody tr th {\n",
       "        vertical-align: top;\n",
       "    }\n",
       "\n",
       "    .dataframe thead th {\n",
       "        text-align: right;\n",
       "    }\n",
       "</style>\n",
       "<table border=\"1\" class=\"dataframe\">\n",
       "  <thead>\n",
       "    <tr style=\"text-align: right;\">\n",
       "      <th></th>\n",
       "      <th>label</th>\n",
       "      <th>split</th>\n",
       "      <th>original</th>\n",
       "    </tr>\n",
       "  </thead>\n",
       "  <tbody>\n",
       "    <tr>\n",
       "      <th>aagfhgtpmv.mp4</th>\n",
       "      <td>FAKE</td>\n",
       "      <td>train</td>\n",
       "      <td>vudstovrck.mp4</td>\n",
       "    </tr>\n",
       "    <tr>\n",
       "      <th>aapnvogymq.mp4</th>\n",
       "      <td>FAKE</td>\n",
       "      <td>train</td>\n",
       "      <td>jdubbvfswz.mp4</td>\n",
       "    </tr>\n",
       "    <tr>\n",
       "      <th>abarnvbtwb.mp4</th>\n",
       "      <td>REAL</td>\n",
       "      <td>train</td>\n",
       "      <td>None</td>\n",
       "    </tr>\n",
       "    <tr>\n",
       "      <th>abofeumbvv.mp4</th>\n",
       "      <td>FAKE</td>\n",
       "      <td>train</td>\n",
       "      <td>atvmxvwyns.mp4</td>\n",
       "    </tr>\n",
       "    <tr>\n",
       "      <th>abqwwspghj.mp4</th>\n",
       "      <td>FAKE</td>\n",
       "      <td>train</td>\n",
       "      <td>qzimuostzz.mp4</td>\n",
       "    </tr>\n",
       "  </tbody>\n",
       "</table>\n",
       "</div>"
      ],
      "text/plain": [
       "               label  split        original\n",
       "aagfhgtpmv.mp4  FAKE  train  vudstovrck.mp4\n",
       "aapnvogymq.mp4  FAKE  train  jdubbvfswz.mp4\n",
       "abarnvbtwb.mp4  REAL  train            None\n",
       "abofeumbvv.mp4  FAKE  train  atvmxvwyns.mp4\n",
       "abqwwspghj.mp4  FAKE  train  qzimuostzz.mp4"
      ]
     },
     "execution_count": 9,
     "metadata": {},
     "output_type": "execute_result"
    }
   ],
   "source": [
    "train_data = train_data.transpose()\n",
    "train_data.head()"
   ]
  },
  {
   "cell_type": "code",
   "execution_count": 12,
   "id": "e5b967e6-ae8d-4ba3-9a27-0a71093bc8bd",
   "metadata": {},
   "outputs": [
    {
     "data": {
      "text/plain": [
       "{'train'}"
      ]
     },
     "execution_count": 12,
     "metadata": {},
     "output_type": "execute_result"
    }
   ],
   "source": [
    "set(train_data['split'])"
   ]
  },
  {
   "cell_type": "code",
   "execution_count": 15,
   "id": "3af39189-a17f-414e-a4ad-1a1f63693f02",
   "metadata": {},
   "outputs": [],
   "source": [
    "train_data.drop(columns = 'split', inplace = True)"
   ]
  },
  {
   "cell_type": "code",
   "execution_count": 16,
   "id": "d0236a57-2e57-4664-98a9-200d0659789d",
   "metadata": {},
   "outputs": [
    {
     "data": {
      "text/html": [
       "<div>\n",
       "<style scoped>\n",
       "    .dataframe tbody tr th:only-of-type {\n",
       "        vertical-align: middle;\n",
       "    }\n",
       "\n",
       "    .dataframe tbody tr th {\n",
       "        vertical-align: top;\n",
       "    }\n",
       "\n",
       "    .dataframe thead th {\n",
       "        text-align: right;\n",
       "    }\n",
       "</style>\n",
       "<table border=\"1\" class=\"dataframe\">\n",
       "  <thead>\n",
       "    <tr style=\"text-align: right;\">\n",
       "      <th></th>\n",
       "      <th>label</th>\n",
       "      <th>original</th>\n",
       "    </tr>\n",
       "  </thead>\n",
       "  <tbody>\n",
       "    <tr>\n",
       "      <th>aagfhgtpmv.mp4</th>\n",
       "      <td>FAKE</td>\n",
       "      <td>vudstovrck.mp4</td>\n",
       "    </tr>\n",
       "    <tr>\n",
       "      <th>aapnvogymq.mp4</th>\n",
       "      <td>FAKE</td>\n",
       "      <td>jdubbvfswz.mp4</td>\n",
       "    </tr>\n",
       "    <tr>\n",
       "      <th>abarnvbtwb.mp4</th>\n",
       "      <td>REAL</td>\n",
       "      <td>None</td>\n",
       "    </tr>\n",
       "    <tr>\n",
       "      <th>abofeumbvv.mp4</th>\n",
       "      <td>FAKE</td>\n",
       "      <td>atvmxvwyns.mp4</td>\n",
       "    </tr>\n",
       "    <tr>\n",
       "      <th>abqwwspghj.mp4</th>\n",
       "      <td>FAKE</td>\n",
       "      <td>qzimuostzz.mp4</td>\n",
       "    </tr>\n",
       "  </tbody>\n",
       "</table>\n",
       "</div>"
      ],
      "text/plain": [
       "               label        original\n",
       "aagfhgtpmv.mp4  FAKE  vudstovrck.mp4\n",
       "aapnvogymq.mp4  FAKE  jdubbvfswz.mp4\n",
       "abarnvbtwb.mp4  REAL            None\n",
       "abofeumbvv.mp4  FAKE  atvmxvwyns.mp4\n",
       "abqwwspghj.mp4  FAKE  qzimuostzz.mp4"
      ]
     },
     "execution_count": 16,
     "metadata": {},
     "output_type": "execute_result"
    }
   ],
   "source": [
    "train_data.head()"
   ]
  },
  {
   "cell_type": "code",
   "execution_count": 10,
   "id": "77c9df43-ca16-4608-9a8d-3aeb3477cb66",
   "metadata": {},
   "outputs": [
    {
     "data": {
      "image/png": "[encoded data removed]",
      "text/plain": [
       "<Figure size 1080x360 with 1 Axes>"
      ]
     },
     "metadata": {
      "needs_background": "light"
     },
     "output_type": "display_data"
    }
   ],
   "source": [
    "train_data.groupby('label')['label'].count().plot(figsize=(15, 5), kind='bar', title='Distribution of Labels in the Training Set')\n",
    "plt.show()"
   ]
  },
  {
   "cell_type": "code",
   "execution_count": null,
   "id": "4dea6ff6-903f-46cb-b60f-7e734b007eb1",
   "metadata": {},
   "outputs": [],
   "source": []
  }
 ],
 "metadata": {
  "kernelspec": {
   "display_name": "Python 3",
   "language": "python",
   "name": "python3"
  },
  "language_info": {
   "codemirror_mode": {
    "name": "ipython",
    "version": 3
   },
   "file_extension": ".py",
   "mimetype": "text/x-python",
   "name": "python",
   "nbconvert_exporter": "python",
   "pygments_lexer": "ipython3",
   "version": "3.8.8"
  }
 },
 "nbformat": 4,
 "nbformat_minor": 5
}
